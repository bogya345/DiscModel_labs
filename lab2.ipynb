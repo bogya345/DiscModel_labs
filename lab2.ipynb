{
 "cells": [
  {
   "cell_type": "code",
   "execution_count": 4,
   "metadata": {},
   "outputs": [],
   "source": [
    "from SALib.sample import saltelli\n",
    "from SALib.analyze import sobol\n",
    "import pandas as pd\n",
    "import numpy as np\n",
    "import random, math\n"
   ]
  },
  {
   "cell_type": "code",
   "execution_count": 11,
   "metadata": {},
   "outputs": [],
   "source": [
    "path_survival = './storage/intermediante/kaz_survival_rates_f.csv'\n",
    "path_population = './storage/intermediante/kaz_population_both.csv'\n",
    "path_bgr = './storage/intermediante/kaz_boys_girls_ratio.csv'"
   ]
  },
  {
   "cell_type": "code",
   "execution_count": 12,
   "metadata": {},
   "outputs": [],
   "source": [
    "cols = [\n",
    "    'Index', 'Variant', 'Area', 'Notes',\n",
    "    'Country_code', 'Reference_date',\n",
    "    '0 - 4', '5 - 9', '10 - 14', '15 - 19',\n",
    "    '20 - 24', '25 - 29', '30 - 34', '35 - 39',\n",
    "    '40 - 44', '45 - 49', '50 - 54', '55 - 59', '60 - 64',\n",
    "    '65 - 69', '70 - 74', '75 - 79', '80 - 84', '85 - 89', '90 - 94',\n",
    "    '95 - 99', '100+'\n",
    "]\n",
    "cols_ext_period = [ 'Sex',\n",
    "    '0 - 4', '5 - 9', '10 - 14', '15 - 19',\n",
    "    '20 - 24', '25 - 29', '30 - 34', '35 - 39',\n",
    "    '40 - 44', '45 - 49', '50 - 54', '55 - 59', '60 - 64',\n",
    "    '65 - 69', '70 - 74', '75 - 79', '80 - 84'\n",
    "    ,'85 - 89', '90 - 94', '95 - 99', '100+'\n",
    "]\n",
    "cols_period = [\n",
    "    '0 - 4', '5 - 9', '10 - 14', '15 - 19',\n",
    "    '20 - 24', '25 - 29', '30 - 34', '35 - 39',\n",
    "    '40 - 44', '45 - 49', '50 - 54', '55 - 59', '60 - 64',\n",
    "    '65 - 69', '70 - 74', '75 - 79', '80 - 84'\n",
    "    ,'85 - 89', '90 - 94', '95 - 99', '100+'\n",
    "]"
   ]
  },
  {
   "cell_type": "code",
   "execution_count": 13,
   "metadata": {},
   "outputs": [
    {
     "data": {
      "text/html": [
       "<div>\n",
       "<style scoped>\n",
       "    .dataframe tbody tr th:only-of-type {\n",
       "        vertical-align: middle;\n",
       "    }\n",
       "\n",
       "    .dataframe tbody tr th {\n",
       "        vertical-align: top;\n",
       "    }\n",
       "\n",
       "    .dataframe thead th {\n",
       "        text-align: right;\n",
       "    }\n",
       "</style>\n",
       "<table border=\"1\" class=\"dataframe\">\n",
       "  <thead>\n",
       "    <tr style=\"text-align: right;\">\n",
       "      <th></th>\n",
       "      <th>0 - 4</th>\n",
       "      <th>5 - 9</th>\n",
       "      <th>10 - 14</th>\n",
       "      <th>15 - 19</th>\n",
       "      <th>20 - 24</th>\n",
       "      <th>25 - 29</th>\n",
       "      <th>30 - 34</th>\n",
       "      <th>35 - 39</th>\n",
       "      <th>40 - 44</th>\n",
       "      <th>45 - 49</th>\n",
       "      <th>...</th>\n",
       "      <th>55 - 59</th>\n",
       "      <th>60 - 64</th>\n",
       "      <th>65 - 69</th>\n",
       "      <th>70 - 74</th>\n",
       "      <th>75 - 79</th>\n",
       "      <th>80 - 84</th>\n",
       "      <th>85 - 89</th>\n",
       "      <th>90 - 94</th>\n",
       "      <th>95 - 99</th>\n",
       "      <th>100+</th>\n",
       "    </tr>\n",
       "    <tr>\n",
       "      <th>index</th>\n",
       "      <th></th>\n",
       "      <th></th>\n",
       "      <th></th>\n",
       "      <th></th>\n",
       "      <th></th>\n",
       "      <th></th>\n",
       "      <th></th>\n",
       "      <th></th>\n",
       "      <th></th>\n",
       "      <th></th>\n",
       "      <th></th>\n",
       "      <th></th>\n",
       "      <th></th>\n",
       "      <th></th>\n",
       "      <th></th>\n",
       "      <th></th>\n",
       "      <th></th>\n",
       "      <th></th>\n",
       "      <th></th>\n",
       "      <th></th>\n",
       "      <th></th>\n",
       "    </tr>\n",
       "  </thead>\n",
       "  <tbody>\n",
       "    <tr>\n",
       "      <th>0</th>\n",
       "      <td>1.450869</td>\n",
       "      <td>1.90301</td>\n",
       "      <td>1.280586</td>\n",
       "      <td>2.788492</td>\n",
       "      <td>1.770657</td>\n",
       "      <td>2.922022</td>\n",
       "      <td>3.540247</td>\n",
       "      <td>2.188188</td>\n",
       "      <td>2.938326</td>\n",
       "      <td>2.850477</td>\n",
       "      <td>...</td>\n",
       "      <td>2.197028</td>\n",
       "      <td>1.665471</td>\n",
       "      <td>3.146063</td>\n",
       "      <td>1.97562</td>\n",
       "      <td>3.622302</td>\n",
       "      <td>1.899271</td>\n",
       "      <td>38.87</td>\n",
       "      <td>21.434</td>\n",
       "      <td>2.955</td>\n",
       "      <td>0.476</td>\n",
       "    </tr>\n",
       "  </tbody>\n",
       "</table>\n",
       "<p>1 rows × 21 columns</p>\n",
       "</div>"
      ],
      "text/plain": [
       "          0 - 4    5 - 9   10 - 14   15 - 19   20 - 24   25 - 29   30 - 34  \\\n",
       "index                                                                        \n",
       "0      1.450869  1.90301  1.280586  2.788492  1.770657  2.922022  3.540247   \n",
       "\n",
       "        35 - 39   40 - 44   45 - 49  ...   55 - 59   60 - 64   65 - 69  \\\n",
       "index                                ...                                 \n",
       "0      2.188188  2.938326  2.850477  ...  2.197028  1.665471  3.146063   \n",
       "\n",
       "       70 - 74   75 - 79   80 - 84  85 - 89  90 - 94  95 - 99   100+  \n",
       "index                                                                 \n",
       "0      1.97562  3.622302  1.899271    38.87   21.434    2.955  0.476  \n",
       "\n",
       "[1 rows x 21 columns]"
      ]
     },
     "execution_count": 13,
     "metadata": {},
     "output_type": "execute_result"
    }
   ],
   "source": [
    "r1 = pd.read_csv(path_survival, index_col='index')\n",
    "r1"
   ]
  },
  {
   "cell_type": "code",
   "execution_count": 14,
   "metadata": {},
   "outputs": [
    {
     "data": {
      "text/html": [
       "<div>\n",
       "<style scoped>\n",
       "    .dataframe tbody tr th:only-of-type {\n",
       "        vertical-align: middle;\n",
       "    }\n",
       "\n",
       "    .dataframe tbody tr th {\n",
       "        vertical-align: top;\n",
       "    }\n",
       "\n",
       "    .dataframe thead th {\n",
       "        text-align: right;\n",
       "    }\n",
       "</style>\n",
       "<table border=\"1\" class=\"dataframe\">\n",
       "  <thead>\n",
       "    <tr style=\"text-align: right;\">\n",
       "      <th></th>\n",
       "      <th>0 - 4</th>\n",
       "      <th>5 - 9</th>\n",
       "      <th>10 - 14</th>\n",
       "      <th>15 - 19</th>\n",
       "      <th>20 - 24</th>\n",
       "      <th>25 - 29</th>\n",
       "      <th>30 - 34</th>\n",
       "      <th>35 - 39</th>\n",
       "      <th>40 - 44</th>\n",
       "      <th>45 - 49</th>\n",
       "      <th>50 - 54</th>\n",
       "      <th>55 - 59</th>\n",
       "      <th>60 - 64</th>\n",
       "      <th>65 - 69</th>\n",
       "      <th>70 - 74</th>\n",
       "      <th>75 - 79</th>\n",
       "      <th>80 - 84</th>\n",
       "    </tr>\n",
       "    <tr>\n",
       "      <th>index</th>\n",
       "      <th></th>\n",
       "      <th></th>\n",
       "      <th></th>\n",
       "      <th></th>\n",
       "      <th></th>\n",
       "      <th></th>\n",
       "      <th></th>\n",
       "      <th></th>\n",
       "      <th></th>\n",
       "      <th></th>\n",
       "      <th></th>\n",
       "      <th></th>\n",
       "      <th></th>\n",
       "      <th></th>\n",
       "      <th></th>\n",
       "      <th></th>\n",
       "      <th></th>\n",
       "    </tr>\n",
       "  </thead>\n",
       "  <tbody>\n",
       "    <tr>\n",
       "      <th>0</th>\n",
       "      <td>1.038667</td>\n",
       "      <td>1.032959</td>\n",
       "      <td>1.03413</td>\n",
       "      <td>1.040998</td>\n",
       "      <td>1.030738</td>\n",
       "      <td>0.997853</td>\n",
       "      <td>0.973107</td>\n",
       "      <td>0.93607</td>\n",
       "      <td>0.896203</td>\n",
       "      <td>0.844101</td>\n",
       "      <td>0.793848</td>\n",
       "      <td>0.746739</td>\n",
       "      <td>0.692477</td>\n",
       "      <td>0.633735</td>\n",
       "      <td>0.567595</td>\n",
       "      <td>0.495103</td>\n",
       "      <td>0.441721</td>\n",
       "    </tr>\n",
       "  </tbody>\n",
       "</table>\n",
       "</div>"
      ],
      "text/plain": [
       "          0 - 4     5 - 9  10 - 14   15 - 19   20 - 24   25 - 29   30 - 34  \\\n",
       "index                                                                        \n",
       "0      1.038667  1.032959  1.03413  1.040998  1.030738  0.997853  0.973107   \n",
       "\n",
       "       35 - 39   40 - 44   45 - 49   50 - 54   55 - 59   60 - 64   65 - 69  \\\n",
       "index                                                                        \n",
       "0      0.93607  0.896203  0.844101  0.793848  0.746739  0.692477  0.633735   \n",
       "\n",
       "        70 - 74   75 - 79   80 - 84  \n",
       "index                                \n",
       "0      0.567595  0.495103  0.441721  "
      ]
     },
     "execution_count": 14,
     "metadata": {},
     "output_type": "execute_result"
    }
   ],
   "source": [
    "r2 = pd.read_csv(path_population, index_col='index')\n",
    "r2"
   ]
  },
  {
   "cell_type": "code",
   "execution_count": 7,
   "metadata": {},
   "outputs": [
    {
     "data": {
      "text/html": [
       "<div>\n",
       "<style scoped>\n",
       "    .dataframe tbody tr th:only-of-type {\n",
       "        vertical-align: middle;\n",
       "    }\n",
       "\n",
       "    .dataframe tbody tr th {\n",
       "        vertical-align: top;\n",
       "    }\n",
       "\n",
       "    .dataframe thead th {\n",
       "        text-align: right;\n",
       "    }\n",
       "</style>\n",
       "<table border=\"1\" class=\"dataframe\">\n",
       "  <thead>\n",
       "    <tr style=\"text-align: right;\">\n",
       "      <th></th>\n",
       "      <th>0 - 4</th>\n",
       "      <th>5 - 9</th>\n",
       "      <th>10 - 14</th>\n",
       "      <th>15 - 19</th>\n",
       "      <th>20 - 24</th>\n",
       "      <th>25 - 29</th>\n",
       "      <th>30 - 34</th>\n",
       "      <th>35 - 39</th>\n",
       "      <th>40 - 44</th>\n",
       "      <th>45 - 49</th>\n",
       "      <th>50 - 54</th>\n",
       "      <th>55 - 59</th>\n",
       "      <th>60 - 64</th>\n",
       "      <th>65 - 69</th>\n",
       "      <th>70 - 74</th>\n",
       "      <th>75 - 79</th>\n",
       "      <th>80 - 84</th>\n",
       "    </tr>\n",
       "    <tr>\n",
       "      <th>index</th>\n",
       "      <th></th>\n",
       "      <th></th>\n",
       "      <th></th>\n",
       "      <th></th>\n",
       "      <th></th>\n",
       "      <th></th>\n",
       "      <th></th>\n",
       "      <th></th>\n",
       "      <th></th>\n",
       "      <th></th>\n",
       "      <th></th>\n",
       "      <th></th>\n",
       "      <th></th>\n",
       "      <th></th>\n",
       "      <th></th>\n",
       "      <th></th>\n",
       "      <th></th>\n",
       "    </tr>\n",
       "  </thead>\n",
       "  <tbody>\n",
       "    <tr>\n",
       "      <th>0</th>\n",
       "      <td>1.038667</td>\n",
       "      <td>1.032959</td>\n",
       "      <td>1.03413</td>\n",
       "      <td>1.040998</td>\n",
       "      <td>1.030738</td>\n",
       "      <td>0.997853</td>\n",
       "      <td>0.973107</td>\n",
       "      <td>0.93607</td>\n",
       "      <td>0.896203</td>\n",
       "      <td>0.844101</td>\n",
       "      <td>0.793848</td>\n",
       "      <td>0.746739</td>\n",
       "      <td>0.692477</td>\n",
       "      <td>0.633735</td>\n",
       "      <td>0.567595</td>\n",
       "      <td>0.495103</td>\n",
       "      <td>0.441721</td>\n",
       "    </tr>\n",
       "  </tbody>\n",
       "</table>\n",
       "</div>"
      ],
      "text/plain": [
       "          0 - 4     5 - 9  10 - 14   15 - 19   20 - 24   25 - 29   30 - 34  \\\n",
       "index                                                                        \n",
       "0      1.038667  1.032959  1.03413  1.040998  1.030738  0.997853  0.973107   \n",
       "\n",
       "       35 - 39   40 - 44   45 - 49   50 - 54   55 - 59   60 - 64   65 - 69  \\\n",
       "index                                                                        \n",
       "0      0.93607  0.896203  0.844101  0.793848  0.746739  0.692477  0.633735   \n",
       "\n",
       "        70 - 74   75 - 79   80 - 84  \n",
       "index                                \n",
       "0      0.567595  0.495103  0.441721  "
      ]
     },
     "execution_count": 7,
     "metadata": {},
     "output_type": "execute_result"
    }
   ],
   "source": [
    "r3 = pd.read_csv(path_bgr, index_col='index')\n",
    "r3"
   ]
  },
  {
   "cell_type": "code",
   "execution_count": null,
   "metadata": {},
   "outputs": [],
   "source": [
    "def Model(x1,x2,x3):\n",
    "    return x1+x2+2*x3#+5*random.random()\n",
    "\n",
    "def Evaluate(param_values):\n",
    "    Y = []\n",
    "    for params in param_values:\n",
    "        x1,x2,x3 = params\n",
    "        res = Model(x1,x2,x3)                \n",
    "        Y.append(res)\n",
    "    return np.array(Y)"
   ]
  },
  {
   "cell_type": "code",
   "execution_count": null,
   "metadata": {},
   "outputs": [],
   "source": [
    "# Define the model inputs\n",
    "problem = {\n",
    "    'num_vars': 3,\n",
    "    'names': ['x1', 'x2', 'x3'],\n",
    "    'bounds': [[-1, 1],\n",
    "               [-1, 1],\n",
    "               [-1, 1]]\n",
    "}"
   ]
  },
  {
   "cell_type": "markdown",
   "metadata": {},
   "source": [
    "# 1 task"
   ]
  },
  {
   "cell_type": "markdown",
   "metadata": {},
   "source": [
    "Perform a **sensitivity analysis** for a demographic model with respect to a set of parameters: fertility rate, boys/girls ratio, «survival» rate for different age groups (not all can be taken). Model output: number of inhabitants for a given year. Test on the final forecast values ​​for 10, 20, 50, 100 years."
   ]
  },
  {
   "cell_type": "code",
   "execution_count": null,
   "metadata": {},
   "outputs": [],
   "source": []
  },
  {
   "cell_type": "markdown",
   "metadata": {},
   "source": [
    "# 2 task"
   ]
  },
  {
   "cell_type": "markdown",
   "metadata": {},
   "source": [
    "Define ranges of model parameter values ​​from data for previous periods (1950-2000)"
   ]
  },
  {
   "cell_type": "code",
   "execution_count": null,
   "metadata": {},
   "outputs": [],
   "source": []
  },
  {
   "cell_type": "markdown",
   "metadata": {},
   "source": [
    "# 3 task"
   ]
  },
  {
   "cell_type": "markdown",
   "metadata": {},
   "source": [
    "Based on all ranges of parameter values, perform an **uncertainty analysis** in the form of a graph with confidence intervals of the results. The values ​​between the boundaries can be considered evenly distributed."
   ]
  },
  {
   "cell_type": "code",
   "execution_count": null,
   "metadata": {},
   "outputs": [],
   "source": []
  }
 ],
 "metadata": {
  "interpreter": {
   "hash": "37ce2622b9871841b0c790fee2397a4e75b78eacabe5c5525a99b8655d1b4bd7"
  },
  "kernelspec": {
   "display_name": "Python 3.7.9 ('.venv': venv)",
   "language": "python",
   "name": "python3"
  },
  "language_info": {
   "codemirror_mode": {
    "name": "ipython",
    "version": 3
   },
   "file_extension": ".py",
   "mimetype": "text/x-python",
   "name": "python",
   "nbconvert_exporter": "python",
   "pygments_lexer": "ipython3",
   "version": "3.7.9"
  },
  "orig_nbformat": 4
 },
 "nbformat": 4,
 "nbformat_minor": 2
}
